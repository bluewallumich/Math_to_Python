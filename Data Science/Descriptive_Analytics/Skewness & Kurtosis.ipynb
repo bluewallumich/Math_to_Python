{
 "cells": [
  {
   "cell_type": "markdown",
   "id": "359fdb2b",
   "metadata": {},
   "source": [
    "# Skewness & Kurtosis\n",
    "![Skewness and Kurtosis](Data Science/Descriptive_Analytics/Skewness and Kurtosis.png)"
   ]
  },
  {
   "cell_type": "code",
   "execution_count": 1,
   "id": "48e0c6aa",
   "metadata": {},
   "outputs": [
    {
     "data": {
      "text/plain": [
       "'Stuff'"
      ]
     },
     "execution_count": 1,
     "metadata": {},
     "output_type": "execute_result"
    }
   ],
   "source": [
    "\"Stuff\""
   ]
  },
  {
   "cell_type": "code",
   "execution_count": null,
   "id": "79146e07",
   "metadata": {},
   "outputs": [],
   "source": []
  }
 ],
 "metadata": {
  "kernelspec": {
   "display_name": "Python 3 (ipykernel)",
   "language": "python",
   "name": "python3"
  },
  "language_info": {
   "codemirror_mode": {
    "name": "ipython",
    "version": 3
   },
   "file_extension": ".py",
   "mimetype": "text/x-python",
   "name": "python",
   "nbconvert_exporter": "python",
   "pygments_lexer": "ipython3",
   "version": "3.11.4"
  }
 },
 "nbformat": 4,
 "nbformat_minor": 5
}

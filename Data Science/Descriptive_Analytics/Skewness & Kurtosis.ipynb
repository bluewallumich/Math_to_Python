{
 "cells": [
  {
   "cell_type": "markdown",
   "id": "45b81b31",
   "metadata": {},
   "source": [
    "# Skewness & Kurtosis\n",
    "\n",
    "<img src=\"Skewness%20and%20Kurtosis.png\" alt=\"Alt text\" style=\"width:600px;height:400px;\">"
   ]
  },
  {
   "cell_type": "markdown",
   "id": "36bb4b0f",
   "metadata": {},
   "source": [
    "Here are two statistical measures that describe the shape of a data distribution. One of the commonly used libraries for this purpose is scipy.\n",
    "\n",
    "**stats.skew(data)** Skewness measures the asymetry of the pobability distribution of a real-valued random variable about its mean. The value itself can be positive or negative or even undefined. In a perfect normal distribution, the skewness is zero\n",
    "\n",
    "**stats.kurtosis(data)** Kurtosis measures the tailedness of probability distribution. The standard comparison is with a normal distribution, which has a kurtosis of three.\n",
    "\n",
    "Scipy computes the excess kurtosis, and a perfect normal distribution would have a value of zero since the calculation is kurtosis — 3"
   ]
  },
  {
   "cell_type": "code",
   "execution_count": 5,
   "id": "3a16fc19",
   "metadata": {},
   "outputs": [],
   "source": [
    "import scipy.stats as stats\n",
    "from scipy.stats import kurtosis\n",
    "import pandas as pd"
   ]
  },
  {
   "cell_type": "code",
   "execution_count": 3,
   "id": "f77d1e43",
   "metadata": {},
   "outputs": [
    {
     "name": "stdout",
     "output_type": "stream",
     "text": [
      "Skewness: 0.0\n",
      "Kurtosis value: -1.2300000000000002\n"
     ]
    }
   ],
   "source": [
    "data = [1, 2, 3, 4, 5, 6, 7, 8, 9]\n",
    "\n",
    "# Caluculation for Skewness\n",
    "skewness = stats.skew(data)\n",
    "print(f'Skewness: {skewness}')\n",
    "\n",
    "# Calculation for Kurtosis\n",
    "kurt_value = kurtosis(data, fisher=True)\n",
    "print(\"Kurtosis value:\", kurt_value)"
   ]
  },
  {
   "cell_type": "markdown",
   "id": "01f88b93",
   "metadata": {},
   "source": [
    "## Pandas"
   ]
  },
  {
   "cell_type": "code",
   "execution_count": 8,
   "id": "6627b988",
   "metadata": {},
   "outputs": [
    {
     "name": "stdout",
     "output_type": "stream",
     "text": [
      "Skewness: 0.0\n",
      "Kurtosis: -1.1999999999999997\n"
     ]
    }
   ],
   "source": [
    "data = {\n",
    "    'values': [1, 2, 3, 4, 5, 6, 7, 8, 9, 10, 11, 12, 13, 14, 15]\n",
    "}\n",
    "df = pd.DataFrame(data)\n",
    "\n",
    "# Calculate skewness\n",
    "skewness = df['values'].skew()\n",
    "print(f'Skewness: {skewness}')\n",
    "\n",
    "# Calculate kurtosis\n",
    "kurtosis = df['values'].kurtosis()\n",
    "print(f'Kurtosis: {kurtosis}')"
   ]
  },
  {
   "cell_type": "markdown",
   "id": "bfa7ae0b",
   "metadata": {},
   "source": [
    "## Manual Check"
   ]
  },
  {
   "cell_type": "code",
   "execution_count": 7,
   "id": "8adde2c6",
   "metadata": {},
   "outputs": [
    {
     "name": "stdout",
     "output_type": "stream",
     "text": [
      "Skewness: 0.0\n",
      "Kurtosis: -1.2299999999999998\n"
     ]
    }
   ],
   "source": [
    "def calculate_skewness_kurtosis(data):\n",
    "    # Calculate the mean of the data\n",
    "    mean = sum(data) / len(data)\n",
    "\n",
    "    # Calculate the differences between data points and the mean\n",
    "    diffs = [x - mean for x in data]\n",
    "\n",
    "    # Calculate the squared differences\n",
    "    squared_diffs = [d ** 2 for d in diffs]\n",
    "    cubed_diffs = [d ** 3 for d in diffs]\n",
    "    fourth_diffs = [d ** 4 for d in diffs]\n",
    "\n",
    "    # Calculate the variance\n",
    "    variance = sum(squared_diffs) / len(data)\n",
    "\n",
    "    # Calculate the standard deviation\n",
    "    std_dev = variance ** 0.5\n",
    "\n",
    "    # Calculate the skewness\n",
    "    skewness = sum(cubed_diffs) / len(data) / (std_dev ** 3)\n",
    "\n",
    "    # Calculate the kurtosis\n",
    "    kurtosis = sum(fourth_diffs) / len(data) / (std_dev ** 4)\n",
    "\n",
    "    return skewness, kurtosis - 3  # Subtracting 3 gives the excess kurtosis, consistent with scipy's definition\n",
    "\n",
    "# usage\n",
    "data = [1, 2, 3, 4, 5, 6, 7, 8, 9]\n",
    "skewness, kurtosis = calculate_skewness_kurtosis(data)\n",
    "\n",
    "print(f'Skewness: {skewness}')\n",
    "print(f'Kurtosis: {kurtosis}')"
   ]
  },
  {
   "cell_type": "markdown",
   "id": "b82cf629",
   "metadata": {},
   "source": [
    "## Skewness Calculation\n",
    "\n",
    "$$\n",
    "\\text{Skewness} = \\frac{n}{(n-1)(n-2)} \\sum \\left( \\frac{{X_i - \\bar{X}}}{s} \\right)^3\n",
    "$$\n",
    "\n",
    "where:\n",
    "- $n$ is the number of observations,\n",
    "- $X_i$ is each individual observation,\n",
    "- $\\bar{X}$ is the mean of the observations,\n",
    "- $s$ is the standard deviation of the observations."
   ]
  },
  {
   "cell_type": "markdown",
   "id": "d3292a03",
   "metadata": {},
   "source": [
    "## Kurtosis Calculation\n",
    "\n",
    "$$\n",
    "\\text{Kurtosis} = \\frac{\\sum_{i=1}^{n} (X_i - \\bar{X})^4 / n} {s^4}\n",
    "$$\n",
    "\n",
    "where:\n",
    "- $X_i$ represents each individual data point,\n",
    "- $\\bar{X}$ is the mean of the data points,\n",
    "- $s$ is the standard deviation of the data points,\n",
    "- $n$ is the number of data points."
   ]
  },
  {
   "cell_type": "markdown",
   "id": "de9d25f4",
   "metadata": {},
   "source": [
    "### Additional Information\n",
    "\n",
    "### Skewness:\n",
    "\n",
    "- **Understanding Symmetry:** Skewness measures the symmetry of a data distribution. If you’re assuming normal distribution in certain data, it’s crucial to check if the dataset is skewed because it impacts various statistical metrics and tests you might use.\n",
    "\n",
    "- **Decision Making:** In finance, for instance, understanding skewness can help investors understand probable future outcomes. Negative skewness (left-tail) in investment returns would indicate a greater probability of large losses, while positive skewness (right-tail) would indicate a higher chance of large gains.\n",
    "\n",
    "- **Data Transformation:** If you find your data is skewed, this might be a prompt to apply a transformation (like a log transformation) to make it more symmetric, especially if you’re going to perform techniques that assume a normal distribution.\n",
    "\n",
    "### Kurtosis:\n",
    "\n",
    "- **Tail Risk:** Kurtosis helps you understand the extremities in the data by measuring the “tailedness.” High kurtosis (‘Leptokurtic’ data) indicates a distribution with tail data exceeding the tails of the normal distribution. This means there are more chances of outliers, indicating a “heavy-tailed” distribution and potentially higher risk in financial contexts.\n",
    "\n",
    "- **Volatility Estimation:** Especially in finance, kurtosis is critical to assess market volatility. Higher kurtosis indicates more frequent significant market movements than expected for a normal distribution.\n",
    "\n",
    "- **Statistical Inference:** Kurtosis affects various aspects of statistical data modeling and hypothesis testing. If you’re involved in advanced predictive modeling, knowing the kurtosis can help you better understand the behavior of your estimation procedures.\n",
    "\n",
    "- **Descriptive Analysis:** For a detailed analysis of data, kurtosis helps in understanding whether outliers are likely due to the ‘peaky’ nature of the distribution.\n",
    "\n",
    "\n",
    "Both skewness and kurtosis are essential for understanding your data more deeply and are crucial for certain advanced statistical models and methodologies. They help diagnose the characteristics of your distribution and the validity of the assumptions you might make based on it."
   ]
  },
  {
   "cell_type": "code",
   "execution_count": null,
   "id": "edaec183",
   "metadata": {},
   "outputs": [],
   "source": []
  }
 ],
 "metadata": {
  "kernelspec": {
   "display_name": "Python 3 (ipykernel)",
   "language": "python",
   "name": "python3"
  },
  "language_info": {
   "codemirror_mode": {
    "name": "ipython",
    "version": 3
   },
   "file_extension": ".py",
   "mimetype": "text/x-python",
   "name": "python",
   "nbconvert_exporter": "python",
   "pygments_lexer": "ipython3",
   "version": "3.11.4"
  }
 },
 "nbformat": 4,
 "nbformat_minor": 5
}

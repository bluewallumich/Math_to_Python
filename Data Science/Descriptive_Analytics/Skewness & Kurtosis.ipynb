{
 "cells": [
  {
   "cell_type": "markdown",
   "id": "8df06db6",
   "metadata": {},
   "source": [
    "# Skewness & Kurtosis\n",
    "![Skewness and Kurtosis](\"C:\\Users\\awnet\\Documents\\GitHub\\Math_to_Python\\Data Science\\Descriptive_Analytics\\Skewness and Kurtosis.png\")"
   ]
  }
 ],
 "metadata": {
  "kernelspec": {
   "display_name": "Python 3 (ipykernel)",
   "language": "python",
   "name": "python3"
  },
  "language_info": {
   "codemirror_mode": {
    "name": "ipython",
    "version": 3
   },
   "file_extension": ".py",
   "mimetype": "text/x-python",
   "name": "python",
   "nbconvert_exporter": "python",
   "pygments_lexer": "ipython3",
   "version": "3.11.4"
  }
 },
 "nbformat": 4,
 "nbformat_minor": 5
}

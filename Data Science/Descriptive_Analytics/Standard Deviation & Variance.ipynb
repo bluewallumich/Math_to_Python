{
 "cells": [
  {
   "cell_type": "markdown",
   "id": "7078e2ef",
   "metadata": {},
   "source": [
    "# Standard Deviation & Variance"
   ]
  },
  {
   "cell_type": "markdown",
   "id": "10a09689",
   "metadata": {},
   "source": [
    "# UCIMLrepo\n",
    "This Heart Disease data set comes from the UC Irvine Machine Learning Repo. It falls under the CCA 4.0 International License. The repo represents 4 databases: Cleveland, Hungry Switzerland and VA Long Beach"
   ]
  },
  {
   "cell_type": "code",
   "execution_count": 5,
   "id": "97f4e053",
   "metadata": {},
   "outputs": [],
   "source": [
    "from ucimlrepo import fetch_ucirepo, list_available_datasets\n",
    "\n",
    "import pandas as pd\n",
    "import numpy as np"
   ]
  },
  {
   "cell_type": "code",
   "execution_count": 6,
   "id": "3ce9a57f",
   "metadata": {},
   "outputs": [],
   "source": [
    "# Uncomment to run a list of datasets\n",
    "#list_available_datasets()"
   ]
  },
  {
   "cell_type": "code",
   "execution_count": 7,
   "id": "555d9581",
   "metadata": {},
   "outputs": [],
   "source": [
    "heart_disease = fetch_ucirepo(id=45)\n",
    "#this is in a dictionary format\n",
    "#Creates a data frame of 303 rows and 13 columns"
   ]
  },
  {
   "cell_type": "code",
   "execution_count": 8,
   "id": "7406f885",
   "metadata": {},
   "outputs": [
    {
     "data": {
      "text/html": [
       "<div>\n",
       "<style scoped>\n",
       "    .dataframe tbody tr th:only-of-type {\n",
       "        vertical-align: middle;\n",
       "    }\n",
       "\n",
       "    .dataframe tbody tr th {\n",
       "        vertical-align: top;\n",
       "    }\n",
       "\n",
       "    .dataframe thead th {\n",
       "        text-align: right;\n",
       "    }\n",
       "</style>\n",
       "<table border=\"1\" class=\"dataframe\">\n",
       "  <thead>\n",
       "    <tr style=\"text-align: right;\">\n",
       "      <th></th>\n",
       "      <th>age</th>\n",
       "      <th>sex</th>\n",
       "      <th>cp</th>\n",
       "      <th>trestbps</th>\n",
       "      <th>chol</th>\n",
       "      <th>fbs</th>\n",
       "      <th>restecg</th>\n",
       "      <th>thalach</th>\n",
       "      <th>exang</th>\n",
       "      <th>oldpeak</th>\n",
       "      <th>slope</th>\n",
       "      <th>ca</th>\n",
       "      <th>thal</th>\n",
       "    </tr>\n",
       "  </thead>\n",
       "  <tbody>\n",
       "    <tr>\n",
       "      <th>0</th>\n",
       "      <td>63</td>\n",
       "      <td>1</td>\n",
       "      <td>1</td>\n",
       "      <td>145</td>\n",
       "      <td>233</td>\n",
       "      <td>1</td>\n",
       "      <td>2</td>\n",
       "      <td>150</td>\n",
       "      <td>0</td>\n",
       "      <td>2.3</td>\n",
       "      <td>3</td>\n",
       "      <td>0.0</td>\n",
       "      <td>6.0</td>\n",
       "    </tr>\n",
       "    <tr>\n",
       "      <th>1</th>\n",
       "      <td>67</td>\n",
       "      <td>1</td>\n",
       "      <td>4</td>\n",
       "      <td>160</td>\n",
       "      <td>286</td>\n",
       "      <td>0</td>\n",
       "      <td>2</td>\n",
       "      <td>108</td>\n",
       "      <td>1</td>\n",
       "      <td>1.5</td>\n",
       "      <td>2</td>\n",
       "      <td>3.0</td>\n",
       "      <td>3.0</td>\n",
       "    </tr>\n",
       "    <tr>\n",
       "      <th>2</th>\n",
       "      <td>67</td>\n",
       "      <td>1</td>\n",
       "      <td>4</td>\n",
       "      <td>120</td>\n",
       "      <td>229</td>\n",
       "      <td>0</td>\n",
       "      <td>2</td>\n",
       "      <td>129</td>\n",
       "      <td>1</td>\n",
       "      <td>2.6</td>\n",
       "      <td>2</td>\n",
       "      <td>2.0</td>\n",
       "      <td>7.0</td>\n",
       "    </tr>\n",
       "    <tr>\n",
       "      <th>3</th>\n",
       "      <td>37</td>\n",
       "      <td>1</td>\n",
       "      <td>3</td>\n",
       "      <td>130</td>\n",
       "      <td>250</td>\n",
       "      <td>0</td>\n",
       "      <td>0</td>\n",
       "      <td>187</td>\n",
       "      <td>0</td>\n",
       "      <td>3.5</td>\n",
       "      <td>3</td>\n",
       "      <td>0.0</td>\n",
       "      <td>3.0</td>\n",
       "    </tr>\n",
       "    <tr>\n",
       "      <th>4</th>\n",
       "      <td>41</td>\n",
       "      <td>0</td>\n",
       "      <td>2</td>\n",
       "      <td>130</td>\n",
       "      <td>204</td>\n",
       "      <td>0</td>\n",
       "      <td>2</td>\n",
       "      <td>172</td>\n",
       "      <td>0</td>\n",
       "      <td>1.4</td>\n",
       "      <td>1</td>\n",
       "      <td>0.0</td>\n",
       "      <td>3.0</td>\n",
       "    </tr>\n",
       "  </tbody>\n",
       "</table>\n",
       "</div>"
      ],
      "text/plain": [
       "   age  sex  cp  trestbps  chol  fbs  restecg  thalach  exang  oldpeak  slope  \\\n",
       "0   63    1   1       145   233    1        2      150      0      2.3      3   \n",
       "1   67    1   4       160   286    0        2      108      1      1.5      2   \n",
       "2   67    1   4       120   229    0        2      129      1      2.6      2   \n",
       "3   37    1   3       130   250    0        0      187      0      3.5      3   \n",
       "4   41    0   2       130   204    0        2      172      0      1.4      1   \n",
       "\n",
       "    ca  thal  \n",
       "0  0.0   6.0  \n",
       "1  3.0   3.0  \n",
       "2  2.0   7.0  \n",
       "3  0.0   3.0  \n",
       "4  0.0   3.0  "
      ]
     },
     "execution_count": 8,
     "metadata": {},
     "output_type": "execute_result"
    }
   ],
   "source": [
    "hd_df = heart_disease.data.features\n",
    "\n",
    "y = heart_disease.data.targets\n",
    "\n",
    "hd_df.head()"
   ]
  },
  {
   "cell_type": "markdown",
   "id": "787effd0",
   "metadata": {},
   "source": [
    "## Standard Deviation"
   ]
  },
  {
   "cell_type": "markdown",
   "id": "b466e9f3",
   "metadata": {},
   "source": [
    "### ddof\n",
    "\n",
    "As a side note pandas and numpys both use what is called **\"Delta Degrees of Freedom\" or ddof** by default.\n",
    "- Pandas ddof defaults to 1 (sample standard deviation/variance)\n",
    "- Numpy ddof defaults to 0 (population standard deviation/variance)\n",
    "\n",
    "The ddof is subtracted from the divisor during the calculation.  This changes the calculation and the outcome based on the context (sample population)."
   ]
  },
  {
   "cell_type": "markdown",
   "id": "9eaafbca",
   "metadata": {},
   "source": [
    "## Population vs. Sample\n",
    "\n",
    "- **Population** For population you are dividing by ***N*** (where ***N*** is the number of data points)\n",
    "- **Sample** If you are sampling from a population, then you would devide by ***N - 1***.  This corrects the bias in the estimation.  This is known as Bessel's correction\n",
    "\n",
    "### How it Works\n",
    "\n",
    "- when `ddof = 0` (numpy default): it calculates the population variance or standard deviation by dividing by ***N***\n",
    "- when `ddof = 1` (pandas defualt): it calculates the sample variance or standard deviation by dividing by ***N - 1***"
   ]
  },
  {
   "cell_type": "markdown",
   "id": "4fad8ecf",
   "metadata": {},
   "source": [
    "### Numpy STD"
   ]
  },
  {
   "cell_type": "code",
   "execution_count": 9,
   "id": "c05c6485",
   "metadata": {},
   "outputs": [
    {
     "data": {
      "text/plain": [
       "(51.69140647264888, 51.776917542637015)"
      ]
     },
     "execution_count": 9,
     "metadata": {},
     "output_type": "execute_result"
    }
   ],
   "source": [
    "np_std_ddof0 = np.std(hd_df.chol)\n",
    "np_std_ddof1 = np.std(hd_df.chol, ddof=1)\n",
    "np_std_ddof0, np_std_ddof1"
   ]
  },
  {
   "cell_type": "markdown",
   "id": "d53cb0a1",
   "metadata": {},
   "source": [
    "### Pandas STD"
   ]
  },
  {
   "cell_type": "code",
   "execution_count": 10,
   "id": "60ff0081",
   "metadata": {},
   "outputs": [
    {
     "data": {
      "text/plain": [
       "(51.69140647264888, 51.776917542637015)"
      ]
     },
     "execution_count": 10,
     "metadata": {},
     "output_type": "execute_result"
    }
   ],
   "source": [
    "pandas_std_ddof0 = hd_df['chol'].std(ddof=0)\n",
    "pandas_std_ddof1 = hd_df['chol'].std()\n",
    "pandas_std_ddof0, pandas_std_ddof1"
   ]
  },
  {
   "cell_type": "markdown",
   "id": "c9016934",
   "metadata": {},
   "source": [
    "### Numpy Variance"
   ]
  },
  {
   "cell_type": "code",
   "execution_count": 11,
   "id": "443fd98a",
   "metadata": {},
   "outputs": [
    {
     "data": {
      "text/plain": [
       "(2672.0015031206067, 2680.8491902170326)"
      ]
     },
     "execution_count": 11,
     "metadata": {},
     "output_type": "execute_result"
    }
   ],
   "source": [
    "np_var_ddof0 = np.var(hd_df.chol)\n",
    "np_var_ddof1 = np.var(hd_df.chol, ddof=1)\n",
    "np_var_ddof0, np_var_ddof1"
   ]
  },
  {
   "cell_type": "markdown",
   "id": "e4313883",
   "metadata": {},
   "source": [
    "### Pandas Variance"
   ]
  },
  {
   "cell_type": "code",
   "execution_count": 12,
   "id": "c18e00fa",
   "metadata": {},
   "outputs": [
    {
     "data": {
      "text/plain": [
       "(2672.0015031206067, 2680.8491902170326)"
      ]
     },
     "execution_count": 12,
     "metadata": {},
     "output_type": "execute_result"
    }
   ],
   "source": [
    "pd_var_ddof0 = hd_df.chol.var(ddof=0)\n",
    "pd_var_ddof1 = hd_df.chol.var()\n",
    "pd_var_ddof0, pd_var_ddof1"
   ]
  },
  {
   "cell_type": "markdown",
   "id": "90b498f5",
   "metadata": {},
   "source": [
    "## Standard Deviation Equation"
   ]
  },
  {
   "cell_type": "markdown",
   "id": "7e43854e",
   "metadata": {},
   "source": [
    "### Population"
   ]
  },
  {
   "cell_type": "markdown",
   "id": "d753ba43",
   "metadata": {},
   "source": [
    "$$ \\sigma = \\sqrt{\\frac{1}{N} \\sum_{i=1}^{N} (x_i - \\mu)^2} $$"
   ]
  },
  {
   "cell_type": "code",
   "execution_count": 13,
   "id": "3b5b5407",
   "metadata": {},
   "outputs": [
    {
     "name": "stdout",
     "output_type": "stream",
     "text": [
      "51.69140647264888\n"
     ]
    }
   ],
   "source": [
    "def population_std(data):\n",
    "    #calculate the mean\n",
    "    mean = sum(data) / len(data) #This is denoted by the Mu or u \n",
    "    \n",
    "    #subtract mean and square the results\n",
    "    squared_difference = [(x - mean) ** 2 for x in data] # List comprehension where (x is the elements in data - mean) squared\n",
    "    \n",
    "    # Compute population variance\n",
    "    population_variance = sum(squared_difference) / len(data) # summation of squared differences denoted by E and N being length of data\n",
    "    \n",
    "    return population_variance ** 0.5 ## square root of population variance\n",
    "\n",
    "data = hd_df.chol\n",
    "std = population_std(data)\n",
    "print(std)"
   ]
  },
  {
   "cell_type": "markdown",
   "id": "e89b5fa8",
   "metadata": {},
   "source": [
    "### Sample"
   ]
  },
  {
   "cell_type": "markdown",
   "id": "656afe71",
   "metadata": {},
   "source": [
    "$$  s = \\sqrt{\\frac{1}{n-1} \\sum_{i=1}^{n} (x_i - \\mu)^2} $$"
   ]
  },
  {
   "cell_type": "code",
   "execution_count": 16,
   "id": "fa475018",
   "metadata": {},
   "outputs": [
    {
     "name": "stdout",
     "output_type": "stream",
     "text": [
      "51.776917542637015\n"
     ]
    }
   ],
   "source": [
    "def sample_std(data):\n",
    "     #calculate the mean\n",
    "    mean = sum(data) / len(data) #This is denoted by the Mu or u \n",
    "    \n",
    "    #subtract mean and square the results\n",
    "    squared_difference = [(x - mean) ** 2 for x in data] # List comprehension where (x is the elements in data - mean) squared\n",
    "    \n",
    "    # Compute population variance\n",
    "    variance = sum(squared_difference) / (len(data) - 1) # summation of squared differences denoted by E and N being length - 1\n",
    "    \n",
    "    return variance ** 0.5 ## square root of population variance\n",
    "\n",
    "data = hd_df.chol\n",
    "std = sample_std(data)\n",
    "print(std)    "
   ]
  },
  {
   "cell_type": "code",
   "execution_count": null,
   "id": "46c69f6e",
   "metadata": {},
   "outputs": [],
   "source": []
  }
 ],
 "metadata": {
  "kernelspec": {
   "display_name": "Python 3 (ipykernel)",
   "language": "python",
   "name": "python3"
  },
  "language_info": {
   "codemirror_mode": {
    "name": "ipython",
    "version": 3
   },
   "file_extension": ".py",
   "mimetype": "text/x-python",
   "name": "python",
   "nbconvert_exporter": "python",
   "pygments_lexer": "ipython3",
   "version": "3.11.4"
  }
 },
 "nbformat": 4,
 "nbformat_minor": 5
}

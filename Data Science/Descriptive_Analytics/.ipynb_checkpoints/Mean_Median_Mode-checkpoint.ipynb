{
 "cells": [
  {
   "cell_type": "markdown",
   "id": "083d7c87",
   "metadata": {},
   "source": [
    "# Descriptive Statistics"
   ]
  },
  {
   "cell_type": "markdown",
   "id": "f7a1ed8b",
   "metadata": {},
   "source": [
    "* Mean, Median, Mode\n",
    "* Standard Deviation & Variance\n",
    "* Skewness & Kurtosis\n",
    "* Range, Interquartile Range (IQR)\n",
    "* Percentiles & Quartiles"
   ]
  },
  {
   "cell_type": "code",
   "execution_count": 8,
   "id": "cb85b4b7",
   "metadata": {},
   "outputs": [],
   "source": [
    "#!pip3 install ucimlrepo"
   ]
  },
  {
   "cell_type": "markdown",
   "id": "03d3f6c5",
   "metadata": {},
   "source": [
    "##  UCIMLrepo\n",
    "This Heart Disease data set comes from the UC Irvine Machine Learning Repo.  It falls under the CCA 4.0 International License.\n",
    "The repo represents 4 databases: Cleveland, Hungry Switzerland and VA Long Beach\n",
    "\n",
    "See: https://github.com/uci-ml-repo/ucimlrepo for further documentation."
   ]
  },
  {
   "cell_type": "code",
   "execution_count": 9,
   "id": "29e55d75",
   "metadata": {},
   "outputs": [],
   "source": [
    "from ucimlrepo import fetch_ucirepo, list_available_datasets"
   ]
  },
  {
   "cell_type": "code",
   "execution_count": 10,
   "id": "92d20991",
   "metadata": {},
   "outputs": [],
   "source": [
    "# Uncomment to run a list of datasets\n",
    "#list_available_datasets()"
   ]
  },
  {
   "cell_type": "code",
   "execution_count": 11,
   "id": "dbaca84f",
   "metadata": {},
   "outputs": [],
   "source": [
    "heart_disease = fetch_ucirepo(id=45)\n",
    "#this is in a dictionary format"
   ]
  },
  {
   "cell_type": "code",
   "execution_count": 12,
   "id": "2979343c",
   "metadata": {},
   "outputs": [],
   "source": [
    "#Creates a data frame of 303 rows and 13 columns\n",
    "hd_df = heart_disease.data.features"
   ]
  },
  {
   "cell_type": "code",
   "execution_count": 13,
   "id": "fb8a1036",
   "metadata": {},
   "outputs": [],
   "source": [
    "y = heart_disease.data.targets"
   ]
  },
  {
   "cell_type": "code",
   "execution_count": 14,
   "id": "6e814a3f",
   "metadata": {},
   "outputs": [
    {
     "data": {
      "text/html": [
       "<div>\n",
       "<style scoped>\n",
       "    .dataframe tbody tr th:only-of-type {\n",
       "        vertical-align: middle;\n",
       "    }\n",
       "\n",
       "    .dataframe tbody tr th {\n",
       "        vertical-align: top;\n",
       "    }\n",
       "\n",
       "    .dataframe thead th {\n",
       "        text-align: right;\n",
       "    }\n",
       "</style>\n",
       "<table border=\"1\" class=\"dataframe\">\n",
       "  <thead>\n",
       "    <tr style=\"text-align: right;\">\n",
       "      <th></th>\n",
       "      <th>age</th>\n",
       "      <th>sex</th>\n",
       "      <th>cp</th>\n",
       "      <th>trestbps</th>\n",
       "      <th>chol</th>\n",
       "      <th>fbs</th>\n",
       "      <th>restecg</th>\n",
       "      <th>thalach</th>\n",
       "      <th>exang</th>\n",
       "      <th>oldpeak</th>\n",
       "      <th>slope</th>\n",
       "      <th>ca</th>\n",
       "      <th>thal</th>\n",
       "    </tr>\n",
       "  </thead>\n",
       "  <tbody>\n",
       "    <tr>\n",
       "      <th>0</th>\n",
       "      <td>63</td>\n",
       "      <td>1</td>\n",
       "      <td>1</td>\n",
       "      <td>145</td>\n",
       "      <td>233</td>\n",
       "      <td>1</td>\n",
       "      <td>2</td>\n",
       "      <td>150</td>\n",
       "      <td>0</td>\n",
       "      <td>2.3</td>\n",
       "      <td>3</td>\n",
       "      <td>0.0</td>\n",
       "      <td>6.0</td>\n",
       "    </tr>\n",
       "    <tr>\n",
       "      <th>1</th>\n",
       "      <td>67</td>\n",
       "      <td>1</td>\n",
       "      <td>4</td>\n",
       "      <td>160</td>\n",
       "      <td>286</td>\n",
       "      <td>0</td>\n",
       "      <td>2</td>\n",
       "      <td>108</td>\n",
       "      <td>1</td>\n",
       "      <td>1.5</td>\n",
       "      <td>2</td>\n",
       "      <td>3.0</td>\n",
       "      <td>3.0</td>\n",
       "    </tr>\n",
       "    <tr>\n",
       "      <th>2</th>\n",
       "      <td>67</td>\n",
       "      <td>1</td>\n",
       "      <td>4</td>\n",
       "      <td>120</td>\n",
       "      <td>229</td>\n",
       "      <td>0</td>\n",
       "      <td>2</td>\n",
       "      <td>129</td>\n",
       "      <td>1</td>\n",
       "      <td>2.6</td>\n",
       "      <td>2</td>\n",
       "      <td>2.0</td>\n",
       "      <td>7.0</td>\n",
       "    </tr>\n",
       "    <tr>\n",
       "      <th>3</th>\n",
       "      <td>37</td>\n",
       "      <td>1</td>\n",
       "      <td>3</td>\n",
       "      <td>130</td>\n",
       "      <td>250</td>\n",
       "      <td>0</td>\n",
       "      <td>0</td>\n",
       "      <td>187</td>\n",
       "      <td>0</td>\n",
       "      <td>3.5</td>\n",
       "      <td>3</td>\n",
       "      <td>0.0</td>\n",
       "      <td>3.0</td>\n",
       "    </tr>\n",
       "    <tr>\n",
       "      <th>4</th>\n",
       "      <td>41</td>\n",
       "      <td>0</td>\n",
       "      <td>2</td>\n",
       "      <td>130</td>\n",
       "      <td>204</td>\n",
       "      <td>0</td>\n",
       "      <td>2</td>\n",
       "      <td>172</td>\n",
       "      <td>0</td>\n",
       "      <td>1.4</td>\n",
       "      <td>1</td>\n",
       "      <td>0.0</td>\n",
       "      <td>3.0</td>\n",
       "    </tr>\n",
       "  </tbody>\n",
       "</table>\n",
       "</div>"
      ],
      "text/plain": [
       "   age  sex  cp  trestbps  chol  fbs  restecg  thalach  exang  oldpeak  slope  \\\n",
       "0   63    1   1       145   233    1        2      150      0      2.3      3   \n",
       "1   67    1   4       160   286    0        2      108      1      1.5      2   \n",
       "2   67    1   4       120   229    0        2      129      1      2.6      2   \n",
       "3   37    1   3       130   250    0        0      187      0      3.5      3   \n",
       "4   41    0   2       130   204    0        2      172      0      1.4      1   \n",
       "\n",
       "    ca  thal  \n",
       "0  0.0   6.0  \n",
       "1  3.0   3.0  \n",
       "2  2.0   7.0  \n",
       "3  0.0   3.0  \n",
       "4  0.0   3.0  "
      ]
     },
     "execution_count": 14,
     "metadata": {},
     "output_type": "execute_result"
    }
   ],
   "source": [
    "hd_df.head()"
   ]
  },
  {
   "cell_type": "markdown",
   "id": "d4bbf77d",
   "metadata": {},
   "source": [
    "## Mean, Median, Mode"
   ]
  },
  {
   "cell_type": "markdown",
   "id": "da71043d",
   "metadata": {},
   "source": [
    "### Mean"
   ]
  },
  {
   "cell_type": "code",
   "execution_count": 15,
   "id": "6eb71a3a",
   "metadata": {},
   "outputs": [
    {
     "name": "stdout",
     "output_type": "stream",
     "text": [
      "The mean is: 131.69\n"
     ]
    },
    {
     "data": {
      "text/plain": [
       "131.69"
      ]
     },
     "execution_count": 15,
     "metadata": {},
     "output_type": "execute_result"
    }
   ],
   "source": [
    "print(f'The mean is: {hd_df.trestbps.mean().round(2)}')\n",
    "\n",
    "                  # OR\n",
    "\n",
    "mean = (hd_df.trestbps.sum()/len(hd_df)).round(2) # Where hd_df.trestbps is a numpy array or series divided by the length\n",
    "mean"
   ]
  },
  {
   "cell_type": "markdown",
   "id": "fb043368",
   "metadata": {},
   "source": [
    "### Median is calculated by finding the middle data point of a list if the number is odd \n",
    "### or the average of two data points in the middle if the number is even"
   ]
  },
  {
   "cell_type": "code",
   "execution_count": 16,
   "id": "b972b2f0",
   "metadata": {},
   "outputs": [
    {
     "name": "stdout",
     "output_type": "stream",
     "text": [
      "The median is: 130.0\n"
     ]
    }
   ],
   "source": [
    "print(f'The median is: {hd_df.trestbps.median()}')"
   ]
  },
  {
   "cell_type": "code",
   "execution_count": 20,
   "id": "e65134f1",
   "metadata": {},
   "outputs": [
    {
     "name": "stdout",
     "output_type": "stream",
     "text": [
      "The median is: 130\n"
     ]
    }
   ],
   "source": [
    "def median_calc(series):\n",
    "    # Sort the number in the series or array\n",
    "    series_sort = series.sort_values().reset_index(drop=True)\n",
    "    \n",
    "    # Get length of series.  We are checking to see if it is odd or even\n",
    "    n = len(series_sort)\n",
    "    \n",
    "    # If the array is odd, the number inbetween is used\n",
    "    if n % 2 !=0: # modulas operator used to return remainder\n",
    "        return series_sort[n//2] # perform floor division and gets the element in the middle\n",
    "    \n",
    "    # returns the average of the two middle numbers\n",
    "    else:\n",
    "        left_number = series_sort[(n-1) // 2] # Gets the middle left number\n",
    "        right_number = series_sort[n // 2] # Gets the middle right number\n",
    "        return (left_number + right_number) / 2 # averages the two numbers\n",
    "    \n",
    "series = hd_df.trestbps\n",
    "print(f'The median is: {median_calc(series)}')"
   ]
  },
  {
   "cell_type": "markdown",
   "id": "a488d942",
   "metadata": {},
   "source": [
    "## Mode"
   ]
  },
  {
   "cell_type": "code",
   "execution_count": 21,
   "id": "4d01a4af",
   "metadata": {},
   "outputs": [
    {
     "name": "stdout",
     "output_type": "stream",
     "text": [
      "The mode is: 0    120\n",
      "Name: trestbps, dtype: int64\n"
     ]
    }
   ],
   "source": [
    "print(f'The mode is: {hd_df.trestbps.mode()}')"
   ]
  },
  {
   "cell_type": "code",
   "execution_count": 22,
   "id": "dd6ec4b6",
   "metadata": {},
   "outputs": [],
   "source": [
    "def mode_calculation(series):\n",
    "    value_counts = series.value_counts() # which value has the highest counts ( how many times does it occur)\n",
    "    \n",
    "    max_numbers = value_counts.max()\n",
    "    \n",
    "    return value_counts[value_counts == max_numbers].index.tolist()"
   ]
  },
  {
   "cell_type": "code",
   "execution_count": 23,
   "id": "0ddfd41f",
   "metadata": {},
   "outputs": [
    {
     "name": "stdout",
     "output_type": "stream",
     "text": [
      "[120]\n",
      "120    37\n",
      "Name: trestbps, dtype: int64\n"
     ]
    }
   ],
   "source": [
    "series = hd_df.trestbps\n",
    "print((mode_calculation(hd_df.trestbps)))\n",
    "\n",
    "mode_checker = hd_df['trestbps'].value_counts()[:1]\n",
    "print(mode_checker)"
   ]
  }
 ],
 "metadata": {
  "kernelspec": {
   "display_name": "Python 3 (ipykernel)",
   "language": "python",
   "name": "python3"
  },
  "language_info": {
   "codemirror_mode": {
    "name": "ipython",
    "version": 3
   },
   "file_extension": ".py",
   "mimetype": "text/x-python",
   "name": "python",
   "nbconvert_exporter": "python",
   "pygments_lexer": "ipython3",
   "version": "3.11.4"
  }
 },
 "nbformat": 4,
 "nbformat_minor": 5
}
